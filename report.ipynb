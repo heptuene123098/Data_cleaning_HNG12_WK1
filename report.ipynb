{
 "cells": [
  {
   "cell_type": "markdown",
   "metadata": {},
   "source": [
    "# Data Cleaning and Title Optimization Report"
   ]
  },
  {
   "cell_type": "markdown",
   "metadata": {},
   "source": [
    "*By **Hephzibah R. Otuene***"
   ]
  },
  {
   "cell_type": "markdown",
   "metadata": {},
   "source": [
    "## Introduction"
   ]
  },
  {
   "cell_type": "markdown",
   "metadata": {},
   "source": [
    "This report documents the data cleaning and title optimization process applied to the dataset containing product information. The primary objectives were to:\n",
    "\n",
    "* Address data quality issues and creating a new feature, short_title, for improved SEO and readability.\n",
    "* Resolve data quality issues like missing values and duplicates using relevant information from the dataset.\n",
    "* Standardize data formats, and generating concise product titles for better marketing impact."
   ]
  },
  {
   "cell_type": "markdown",
   "metadata": {},
   "source": [
    "## Data Cleaning Process"
   ]
  },
  {
   "cell_type": "markdown",
   "metadata": {},
   "source": [
    "Issues Identified:\n",
    "\n",
    "* Duplicates\n",
    "* Column title was not consistent\n",
    "* Missing values in the \"DESCRIPTION\" and \"BULLET_POINTS\" columns."
   ]
  },
  {
   "cell_type": "markdown",
   "metadata": {},
   "source": [
    "Steps Taken:\n",
    "\n",
    "* Removed duplicates and handled inconsistencies in the dataset.\n",
    "* Used the TITLE column to fill missing values in DESCRIPTION and BULLET_POINTS if no other data was available.\n"
   ]
  },
  {
   "cell_type": "markdown",
   "metadata": {},
   "source": []
  },
  {
   "cell_type": "markdown",
   "metadata": {},
   "source": [
    "## Short Title Creation\n",
    "Methodology:\n",
    "\n",
    "* Extracted the most relevant keywords from the original product titles.\n",
    "* Removed redundant phrases and excessive details.\n",
    "* Ensured the optimized titles remain clear and informative."
   ]
  },
  {
   "cell_type": "markdown",
   "metadata": {},
   "source": [
    "## Clean Dataset Overview\n",
    "Key Improvements:\n",
    "\n",
    "* 100% completion rate for DESCRIPTION and BULLET_POINTS fields.\n",
    "* More concise and readable product titles.\n",
    "* Consistent formatting across all text fields."
   ]
  },
  {
   "cell_type": "markdown",
   "metadata": {},
   "source": [
    "## Conclusion\n",
    "The data cleaning and title optimization process significantly improved the dataset’s quality. The cleaned dataset is now well-structured, with enhanced readability and completeness, making it more useful for analysis and product cataloging."
   ]
  }
 ],
 "metadata": {
  "language_info": {
   "name": "python"
  }
 },
 "nbformat": 4,
 "nbformat_minor": 2
}
